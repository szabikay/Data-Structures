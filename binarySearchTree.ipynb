{
 "cells": [
  {
   "cell_type": "code",
   "execution_count": 1,
   "metadata": {},
   "outputs": [],
   "source": [
    "class _Node:\n",
    "    __slots__ = '_element', '_left', '_right'\n",
    "\n",
    "    def __init__(self, element, left=None, right=None):\n",
    "        self._element = element\n",
    "        self._left = left\n",
    "        self._right = right"
   ]
  },
  {
   "cell_type": "code",
   "execution_count": 2,
   "metadata": {},
   "outputs": [],
   "source": [
    "class binarySearchTree:\n",
    "    def __init__(self):\n",
    "        self._root = None\n",
    "        \n",
    "    def insert(self, element):\n",
    "        newest = _Node(element)\n",
    "        \n",
    "        if self._root == None:\n",
    "            self._root = newest\n",
    "            \n",
    "        troot = self._root\n",
    "        \n",
    "        while troot:\n",
    "            temp = troot\n",
    "            if element == troot._element:\n",
    "                return\n",
    "            elif element < troot._element:\n",
    "                troot = troot._left\n",
    "            elif element > troot._element:\n",
    "                troot = troot._right      \n",
    "                \n",
    "        if element < temp._element:\n",
    "            temp._left = newest\n",
    "        else:\n",
    "            temp._right = newest   \n",
    "            \n",
    "    def inOrder(self,troot):\n",
    "        if troot:\n",
    "            self.inOrder(troot._left)\n",
    "            print(troot._element,end=' ')\n",
    "            self.inOrder(troot._right)\n",
    "            \n",
    "    def search(self,troot,key):\n",
    "        if troot:\n",
    "            if key == troot._element:\n",
    "                return True\n",
    "            elif key < troot._element:\n",
    "                return self.search(troot._left,key)\n",
    "            elif key > troot._element:\n",
    "                return self.search(troot._right,key)\n",
    "        else:\n",
    "            return False\n",
    "        \n",
    "        \n",
    "    def delete(self,e):\n",
    "        p = self._root\n",
    "        pp = None\n",
    "        \n",
    "        #Traversing to find the position of the element we want to delete\n",
    "        while p and p._element != e:\n",
    "            pp = p\n",
    "            if e < p._element:\n",
    "                p = p._left\n",
    "            else:\n",
    "                p = p._right\n",
    "        if not p:\n",
    "            return False\n",
    "        \n",
    "        if p._left and p._right:\n",
    "            s = p._left\n",
    "            ps = p\n",
    "            while s._right:\n",
    "                ps = s\n",
    "                s = s._right\n",
    "            p._element = s._element\n",
    "            p = s\n",
    "            pp = ps\n",
    "        c = None\n",
    "        if p._left:\n",
    "            c = p._left\n",
    "        else:\n",
    "            c = p._right\n",
    "        if p == self._root:\n",
    "            self._root = None\n",
    "        else:\n",
    "            if p == pp._left:\n",
    "                pp._left = c\n",
    "            else:\n",
    "                pp._right = c       "
   ]
  },
  {
   "cell_type": "code",
   "execution_count": 3,
   "metadata": {},
   "outputs": [],
   "source": [
    "x = binarySearchTree()"
   ]
  },
  {
   "cell_type": "code",
   "execution_count": 4,
   "metadata": {},
   "outputs": [],
   "source": [
    "x.insert(50)\n",
    "x.insert(20)\n",
    "x.insert(15)\n",
    "x.insert(45)\n",
    "\n",
    "x.insert(60)\n",
    "x.insert(49)\n",
    "x.insert(100)\n",
    "x.insert(51)\n",
    "\n"
   ]
  },
  {
   "cell_type": "code",
   "execution_count": 5,
   "metadata": {},
   "outputs": [
    {
     "name": "stdout",
     "output_type": "stream",
     "text": [
      "15 20 45 49 50 51 60 100 "
     ]
    }
   ],
   "source": [
    "x.inOrder(x._root)"
   ]
  },
  {
   "cell_type": "code",
   "execution_count": 6,
   "metadata": {},
   "outputs": [
    {
     "data": {
      "text/plain": [
       "True"
      ]
     },
     "execution_count": 6,
     "metadata": {},
     "output_type": "execute_result"
    }
   ],
   "source": [
    "x.search(x._root, 51)"
   ]
  },
  {
   "cell_type": "code",
   "execution_count": 7,
   "metadata": {},
   "outputs": [],
   "source": [
    "x.delete(20)"
   ]
  },
  {
   "cell_type": "code",
   "execution_count": 8,
   "metadata": {},
   "outputs": [
    {
     "name": "stdout",
     "output_type": "stream",
     "text": [
      "15 45 49 50 51 60 100 "
     ]
    }
   ],
   "source": [
    "x.inOrder(x._root)"
   ]
  },
  {
   "cell_type": "code",
   "execution_count": null,
   "metadata": {},
   "outputs": [],
   "source": []
  }
 ],
 "metadata": {
  "kernelspec": {
   "display_name": "Python 3",
   "language": "python",
   "name": "python3"
  },
  "language_info": {
   "codemirror_mode": {
    "name": "ipython",
    "version": 3
   },
   "file_extension": ".py",
   "mimetype": "text/x-python",
   "name": "python",
   "nbconvert_exporter": "python",
   "pygments_lexer": "ipython3",
   "version": "3.7.3"
  }
 },
 "nbformat": 4,
 "nbformat_minor": 2
}
