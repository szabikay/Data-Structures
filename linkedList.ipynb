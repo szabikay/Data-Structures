{
 "cells": [
  {
   "cell_type": "code",
   "execution_count": 1,
   "metadata": {},
   "outputs": [],
   "source": [
    "class _Node:\n",
    "    __slots__ = '_element', '_next'\n",
    "    \n",
    "    def __init__(self, element, next):\n",
    "        self._element = element\n",
    "        self._next = next"
   ]
  },
  {
   "cell_type": "code",
   "execution_count": 2,
   "metadata": {},
   "outputs": [],
   "source": [
    "class linkedList:\n",
    "    def __init__(self):\n",
    "        self._head = None\n",
    "        self._tail = None\n",
    "        self._size = 0\n",
    "        \n",
    "    def __len__(self):\n",
    "        return self._size\n",
    "    \n",
    "    def isEmpty(self):\n",
    "        return self._size == 0\n",
    "    \n",
    "    def addFirst(self, e):\n",
    "        \n",
    "        newest = _Node(e, None)\n",
    "        \n",
    "        if self.isEmpty():\n",
    "            self._head = newest\n",
    "            self._tail = newest\n",
    "        else:\n",
    "            head = self._head\n",
    "            newest._next = head\n",
    "            self._head = newest\n",
    "        \n",
    "        self._size += 1\n",
    "        \n",
    "    def addLast(self, e):\n",
    "        newest = _Node(e, None)\n",
    "        \n",
    "        if self.isEmpty():\n",
    "            self._head = newest\n",
    "        else:\n",
    "            self._tail._next = newest\n",
    "        self._tail = newest\n",
    "        self._size += 1\n",
    "      \n",
    "    def addAny(self, e, position):\n",
    "        newest = _Node(e, None)\n",
    "        p = self._head\n",
    "        i = 1\n",
    "        while i < position-1:\n",
    "            p = p._next\n",
    "            i = i + 1\n",
    "        newest._next = p._next\n",
    "        p._next = newest\n",
    "        self._size += 1\n",
    "\n",
    "            \n",
    "    def display(self):\n",
    "        p = self._head\n",
    "        while p:\n",
    "            print(p._element,end=' --> ')\n",
    "            p = p._next\n",
    "        print()\n",
    "        \n",
    "    def search(self, key):\n",
    "        p = self._head\n",
    "        position = 1\n",
    "        \n",
    "        while p:\n",
    "            if p._element == key:\n",
    "                print(\"Element {} found at position {}\".format(key,position))\n",
    "                return None\n",
    "            else:\n",
    "                p = p._next\n",
    "                position += 1\n",
    "        \n",
    "        print(\"Element {} not found in this linked list\".format(key))\n",
    "        \n",
    "    def reverse(self):\n",
    "        #1->2->3\n",
    "        #<-1<-2<-3\n",
    "        \n",
    "        p = self._head\n",
    "        self._tail = p\n",
    "        prev = None\n",
    "        \n",
    "        while p:\n",
    "            next = p._next\n",
    "            p._next = prev\n",
    "            prev = p\n",
    "            \n",
    "            p = next\n",
    "\n",
    "        self._head = prev\n",
    "        \n",
    "    def removeFirst(self):\n",
    "        if self.isEmpty():\n",
    "            print('List is empty')\n",
    "            return\n",
    "        e = self._head._element\n",
    "        self._head = self._head._next\n",
    "        self._size -= 1\n",
    "        if self.isEmpty():\n",
    "            self._tail = None\n",
    "        return e\n",
    "    \n",
    "    \n",
    "    def removeLast(self):\n",
    "        if self.isEmpty():\n",
    "            print('List is empty')\n",
    "            return\n",
    "        p = self._head\n",
    "        i = 1\n",
    "        while i < len(self) - 1:\n",
    "            p = p._next\n",
    "            i = i + 1\n",
    "        self._tail = p\n",
    "        p = p._next\n",
    "        e = p._element\n",
    "        self._tail._next = None\n",
    "        self._size -= 1\n",
    "        return e\n",
    "\n",
    "    def removeAny(self, position):\n",
    "        p = self._head\n",
    "        i = 1\n",
    "        while i < position - 1:\n",
    "            p = p._next\n",
    "            i = i + 1\n",
    "        e = p._next._element\n",
    "        p._next = p._next._next\n",
    "        self._size -= 1\n",
    "        return e"
   ]
  },
  {
   "cell_type": "code",
   "execution_count": 3,
   "metadata": {},
   "outputs": [],
   "source": [
    "L = linkedList()"
   ]
  },
  {
   "cell_type": "code",
   "execution_count": 4,
   "metadata": {},
   "outputs": [],
   "source": [
    "L.addLast(10)\n",
    "L.addLast(20)\n",
    "L.addLast(30)\n",
    "L.addLast(40)\n",
    "L.addFirst(0)\n",
    "L.addAny(50,6)\n",
    "L.addAny(60,7)"
   ]
  },
  {
   "cell_type": "code",
   "execution_count": 5,
   "metadata": {},
   "outputs": [
    {
     "data": {
      "text/plain": [
       "7"
      ]
     },
     "execution_count": 5,
     "metadata": {},
     "output_type": "execute_result"
    }
   ],
   "source": [
    "len(L)"
   ]
  },
  {
   "cell_type": "code",
   "execution_count": 6,
   "metadata": {},
   "outputs": [
    {
     "name": "stdout",
     "output_type": "stream",
     "text": [
      "Element 0 found at position 1\n"
     ]
    }
   ],
   "source": [
    "L.search(0)"
   ]
  },
  {
   "cell_type": "code",
   "execution_count": 7,
   "metadata": {},
   "outputs": [
    {
     "name": "stdout",
     "output_type": "stream",
     "text": [
      "0 --> 10 --> 20 --> 30 --> 40 --> 50 --> 60 --> \n",
      "None\n"
     ]
    }
   ],
   "source": [
    "print(L.display())"
   ]
  },
  {
   "cell_type": "code",
   "execution_count": 8,
   "metadata": {},
   "outputs": [],
   "source": [
    "L.reverse()"
   ]
  },
  {
   "cell_type": "code",
   "execution_count": 9,
   "metadata": {},
   "outputs": [
    {
     "name": "stdout",
     "output_type": "stream",
     "text": [
      "60 --> 50 --> 40 --> 30 --> 20 --> 10 --> 0 --> \n",
      "None\n"
     ]
    }
   ],
   "source": [
    "print(L.display())"
   ]
  },
  {
   "cell_type": "code",
   "execution_count": 10,
   "metadata": {},
   "outputs": [
    {
     "name": "stdout",
     "output_type": "stream",
     "text": [
      "60\n",
      "0\n"
     ]
    }
   ],
   "source": [
    "print(L.removeFirst())\n",
    "print(L.removeLast())"
   ]
  },
  {
   "cell_type": "code",
   "execution_count": 11,
   "metadata": {},
   "outputs": [
    {
     "name": "stdout",
     "output_type": "stream",
     "text": [
      "50 --> 40 --> 30 --> 20 --> 10 --> \n",
      "None\n"
     ]
    }
   ],
   "source": [
    "print(L.display())"
   ]
  },
  {
   "cell_type": "code",
   "execution_count": null,
   "metadata": {},
   "outputs": [],
   "source": []
  }
 ],
 "metadata": {
  "kernelspec": {
   "display_name": "Python 3",
   "language": "python",
   "name": "python3"
  },
  "language_info": {
   "codemirror_mode": {
    "name": "ipython",
    "version": 3
   },
   "file_extension": ".py",
   "mimetype": "text/x-python",
   "name": "python",
   "nbconvert_exporter": "python",
   "pygments_lexer": "ipython3",
   "version": "3.7.3"
  }
 },
 "nbformat": 4,
 "nbformat_minor": 2
}
