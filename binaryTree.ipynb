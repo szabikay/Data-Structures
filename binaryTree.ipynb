{
 "cells": [
  {
   "cell_type": "code",
   "execution_count": 1,
   "metadata": {},
   "outputs": [],
   "source": [
    "class _Node:\n",
    "    __slots__ = '_element', '_left', '_right'\n",
    "    \n",
    "    def __init__(self, element, left=None, right=None):\n",
    "        self._element = element\n",
    "        self._left = left\n",
    "        self._right = right"
   ]
  },
  {
   "cell_type": "code",
   "execution_count": 2,
   "metadata": {},
   "outputs": [],
   "source": [
    "class binaryTree:\n",
    "    \n",
    "    def __init__(self):\n",
    "        self._root = None\n",
    "        self._parentQueue = []\n",
    "        self._hasLeft = False\n",
    "        \n",
    "    def insert(self, element):\n",
    "        \n",
    "        newest = _Node(element, None, None)\n",
    "        \n",
    "        if self._root == None:\n",
    "            self._root = newest\n",
    "            return\n",
    "\n",
    "        if self._root._left == None:\n",
    "            self._root._left = newest\n",
    "            self._parentQueue.append(newest)\n",
    "                \n",
    "        elif self._root._right == None:\n",
    "            self._root._right = newest\n",
    "            self._parentQueue.append(newest)\n",
    "        \n",
    "        elif self._hasLeft == False:\n",
    "            self._parentQueue[0]._left = newest\n",
    "            self._parentQueue.append(newest)\n",
    "            self._hasLeft = True\n",
    "        \n",
    "        else:\n",
    "            self._parentQueue[0]._right = newest\n",
    "            self._parentQueue.append(newest)\n",
    "            self._parentQueue.pop(0)\n",
    "            self._hasLeft = False\n",
    " \n",
    "            \n",
    "    def inOrder(self,troot):\n",
    "        if troot:\n",
    "            self.inOrder(troot._left)\n",
    "            print(troot._element,end=' ')\n",
    "            self.inOrder(troot._right)\n",
    "            \n",
    "    def preOrder(self,troot):\n",
    "        if troot:\n",
    "            print(troot._element,end=' ')\n",
    "            self.preOrder(troot._left)\n",
    "            self.preOrder(troot._right)\n",
    "\n",
    "    def postOrder(self,troot):\n",
    "        if troot:\n",
    "            self.postOrder(troot._left)\n",
    "            self.postOrder(troot._right)\n",
    "            print(troot._element, end=' ')\n",
    "            \n",
    "    def levelOrder(self):\n",
    "        Q = []\n",
    "        t = self._root\n",
    "        print(t._element,end=' ')\n",
    "        Q.append(t)\n",
    "        while not Q == []:\n",
    "            t = Q.pop(0)\n",
    "            if t._left:\n",
    "                print(t._left._element,end=' ')\n",
    "                Q.append(t._left)\n",
    "            if t._right:\n",
    "                print(t._right._element,end=' ')\n",
    "                Q.append(t._right)\n",
    "\n",
    "    #Count recursively\n",
    "    def count(self,troot):\n",
    "        if troot:\n",
    "            x = self.count(troot._left)\n",
    "            y = self.count(troot._right)\n",
    "            return x + y + 1\n",
    "        return 0\n",
    "    \n",
    "    #Get height recursively\n",
    "    def height(self,troot):\n",
    "        if troot:\n",
    "            x = self.height(troot._left)\n",
    "            y = self.height(troot._right)\n",
    "            if x > y:\n",
    "                return x + 1\n",
    "            else:\n",
    "                return y + 1\n",
    "        return 0"
   ]
  },
  {
   "cell_type": "code",
   "execution_count": 3,
   "metadata": {},
   "outputs": [],
   "source": [
    "x = binaryTree()"
   ]
  },
  {
   "cell_type": "code",
   "execution_count": 4,
   "metadata": {},
   "outputs": [],
   "source": [
    "x.insert(1)\n",
    "x.insert(2)\n",
    "x.insert(3)\n",
    "x.insert(4)\n",
    "x.insert(5)\n",
    "x.insert(6)\n",
    "x.insert(7)\n",
    "x.insert(8)\n",
    "x.insert(9)\n",
    "x.insert(10)"
   ]
  },
  {
   "cell_type": "code",
   "execution_count": 5,
   "metadata": {},
   "outputs": [
    {
     "name": "stdout",
     "output_type": "stream",
     "text": [
      "8 4 9 2 10 5 1 6 3 7 "
     ]
    }
   ],
   "source": [
    "x.inOrder(x._root)"
   ]
  },
  {
   "cell_type": "code",
   "execution_count": 6,
   "metadata": {},
   "outputs": [
    {
     "name": "stdout",
     "output_type": "stream",
     "text": [
      "8 9 4 10 5 2 6 7 3 1 "
     ]
    }
   ],
   "source": [
    "x.postOrder(x._root)"
   ]
  },
  {
   "cell_type": "code",
   "execution_count": 7,
   "metadata": {},
   "outputs": [
    {
     "name": "stdout",
     "output_type": "stream",
     "text": [
      "1 2 4 8 9 5 10 3 6 7 "
     ]
    }
   ],
   "source": [
    "x.preOrder(x._root)"
   ]
  },
  {
   "cell_type": "code",
   "execution_count": 8,
   "metadata": {},
   "outputs": [
    {
     "name": "stdout",
     "output_type": "stream",
     "text": [
      "1 2 3 4 5 6 7 8 9 10 "
     ]
    }
   ],
   "source": [
    "x.levelOrder()"
   ]
  },
  {
   "cell_type": "code",
   "execution_count": 9,
   "metadata": {},
   "outputs": [
    {
     "data": {
      "text/plain": [
       "10"
      ]
     },
     "execution_count": 9,
     "metadata": {},
     "output_type": "execute_result"
    }
   ],
   "source": [
    "x.count(x._root)"
   ]
  },
  {
   "cell_type": "code",
   "execution_count": 10,
   "metadata": {},
   "outputs": [
    {
     "data": {
      "text/plain": [
       "4"
      ]
     },
     "execution_count": 10,
     "metadata": {},
     "output_type": "execute_result"
    }
   ],
   "source": [
    "x.height(x._root)"
   ]
  }
 ],
 "metadata": {
  "kernelspec": {
   "display_name": "Python 3",
   "language": "python",
   "name": "python3"
  },
  "language_info": {
   "codemirror_mode": {
    "name": "ipython",
    "version": 3
   },
   "file_extension": ".py",
   "mimetype": "text/x-python",
   "name": "python",
   "nbconvert_exporter": "python",
   "pygments_lexer": "ipython3",
   "version": "3.7.3"
  }
 },
 "nbformat": 4,
 "nbformat_minor": 2
}
